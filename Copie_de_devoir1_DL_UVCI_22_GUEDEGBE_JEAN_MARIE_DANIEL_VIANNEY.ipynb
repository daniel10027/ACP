{
  "cells": [
    {
      "cell_type": "markdown",
      "metadata": {
        "id": "view-in-github",
        "colab_type": "text"
      },
      "source": [
        "<a href=\"https://colab.research.google.com/github/daniel10027/ACP/blob/main/Copie_de_devoir1_DL_UVCI_22_GUEDEGBE_JEAN_MARIE_DANIEL_VIANNEY.ipynb\" target=\"_parent\"><img src=\"https://colab.research.google.com/assets/colab-badge.svg\" alt=\"Open In Colab\"/></a>"
      ]
    },
    {
      "cell_type": "markdown",
      "metadata": {
        "id": "2-lqIVyYHASR"
      },
      "source": [
        "# Devoir de maison n° 1\n",
        "\n",
        "Le but de ce devoir est de parcourir de façon succinte le cycle complet de développement d'un modèle de deep learning résoudre un problème concret. </br></br>\n",
        "\n",
        "\n",
        "Réfléchissez à un problème se rapportant à la classification d’images en différentes catégories. Veuillez y penser dès maintenant. Je vous encourage à observer attentivement autour de vous pour identifier un problème concret où votre solution aura une plus-value !  </br> \n",
        "Rappelons que vous n’êtes pas limité à un problème à deux classes, vous pouvez aller plus loin, 3, 4 ou plus. Libérez votre créativité personnelle, j’insiste sur la personnalisation. Veuillez privilégier le développement de votre propre expertise.</br>\n",
        "*N'oubliez surtout pas, ceux qui montreront un effort dans leur travail pourront travailler sur des projets de recherche financés avec moi !* \n",
        "\n",
        "Veillez indiquer le problème à résoudre choisi:</br>\n",
        "ETUDE DE L'EMOTION FACIAL CHEZ LE GENRE HUMAIN\n",
        "\n",
        "- RIRE\n",
        "- PLEURE\n",
        "- COLERE\n",
        "- PEUR\n"
      ]
    },
    {
      "cell_type": "markdown",
      "metadata": {
        "id": "4ltAvep_HASU"
      },
      "source": [
        "###  Installation des librairies"
      ]
    },
    {
      "cell_type": "code",
      "execution_count": null,
      "metadata": {
        "id": "S5HZW4KeHASU"
      },
      "outputs": [],
      "source": [
        "# Commandes pour installer les librairies nécessaires\n",
        "!pip install -Uqq fastai\n",
        "!pip install -Uqq fastbook\n",
        "import fastai, fastbook\n",
        "fastai.__version__, fastbook.__version__\n"
      ]
    },
    {
      "cell_type": "markdown",
      "metadata": {
        "id": "rmxOUtTqHASW"
      },
      "source": [
        "### Importation des librairies "
      ]
    },
    {
      "cell_type": "code",
      "execution_count": null,
      "metadata": {
        "id": "1bRNP3AxHASW"
      },
      "outputs": [],
      "source": [
        "# Code pour importer les modules de vision et fastbook\n",
        "from fastai.vision.all import *\n",
        "from fastbook import *"
      ]
    },
    {
      "cell_type": "markdown",
      "metadata": {
        "id": "Xt5_7KnEHASX"
      },
      "source": [
        "## **I. Développement du jeu de données**\n",
        "\n"
      ]
    },
    {
      "cell_type": "markdown",
      "source": [
        "### Collecte d'urls des données\n",
        "\n",
        "\n",
        "1. Modifier le code du notebook vu au cours de sorte à collecter 600 url d’images pour chacune des catégories ou classes de votre problème.\n",
        "\n",
        "\n",
        "2. Diviser la liste d’urls de chaque catégorie en **2 listes disjointes**: une liste de 400 urls et une autre de 200 urls. Utiliser le préfixe 'extra' pour ces listes de 200 urls. Par exemple, pour le notebook du cours on aura: *urls_bagarre, urls_non_bagarre, extra_urls_bagarre, extra_urls_non_bagarre*\n",
        "\n",
        "</br>\n"
      ],
      "metadata": {
        "id": "HZsLf87dpA8N"
      }
    },
    {
      "cell_type": "markdown",
      "source": [
        "J'utilise search_images_ddg de fastbook permettant de rechercher un ensemble d'url d'images </br>\n",
        "Voici donc les termes de recherche entrées pour chaque cas:\n",
        "\n",
        "- rire : person who laughs\n",
        "- pleure : person crying\n",
        "- peur : person who is afraid\n",
        "- colère : angry person\n"
      ],
      "metadata": {
        "id": "tgZVun0_QZPC"
      }
    },
    {
      "cell_type": "code",
      "execution_count": null,
      "metadata": {
        "id": "cYAr55kBHASb"
      },
      "outputs": [],
      "source": [
        "#Nombre maximal d'image à upload\n",
        "nombre_images = 600\n",
        "# url rire\n",
        "person_laughs = search_images_ddg('face of a smiling person', max_images=nombre_images)\n",
        "urls_person_laughs = person_laughs[:400]\n",
        "extra_urls_person_laughs = person_laughs[400:]\n",
        "# url pleure\n",
        "person_crying = search_images_ddg('face of a crying person', max_images=nombre_images)\n",
        "urls_person_crying = person_crying[:400]\n",
        "extra_urls_person_crying = person_crying[400:]\n",
        "# url peur\n",
        "person_afraid = search_images_ddg('face of a scared person', max_images=nombre_images)\n",
        "urls_person_afraid = person_afraid[:400]\n",
        "extra_urls_person_afraid = person_afraid[400:]\n",
        "# url colère\n",
        "person_angry = search_images_ddg('face of an angry person', max_images=nombre_images)\n",
        "urls_person_angry = person_angry[:400]\n",
        "extra_urls_person_angry = person_angry[400:]"
      ]
    },
    {
      "cell_type": "code",
      "source": [
        "# Dé-commentez les lignes de code suivantes puis, modifiez pour réfléter\n",
        "# vos noms utilisés et le nombre de catégorie de votre problème\n",
        "# et exécutez. Aucune erreur ne doit apparaître sinon\n",
        "# les listes ne sont pas disjointes comme indiqué!\n",
        "assert(len(set(urls_person_laughs) & set(extra_urls_person_laughs)) == 0) \n",
        "assert(len(set(urls_person_crying) & set(extra_urls_person_crying)) == 0)\n",
        "assert(len(set(urls_person_afraid) & set(extra_urls_person_afraid)) == 0)\n",
        "assert(len(set(urls_person_angry) & set(extra_urls_person_angry)) == 0)"
      ],
      "metadata": {
        "id": "zDAI_AFWpJCh"
      },
      "execution_count": null,
      "outputs": []
    },
    {
      "cell_type": "markdown",
      "metadata": {
        "id": "sEFoYcG_HASc"
      },
      "source": [
        "### Téléchargement et  Visualisation de quelques données des différentes catégories\n",
        "\n",
        "**Pour la suite, utilisez uniquement les listes de 400 urls**.</br>\n",
        "En vous basant sur le notebook vu en cours:\n",
        "1. Téléchargez les données en respectant leur organisation par dossier en supprimant les fichiers corrompus\n",
        "2. Créez un dataloader puis visualisez un lot de données."
      ]
    },
    {
      "cell_type": "code",
      "execution_count": null,
      "metadata": {
        "id": "mXWdAKgEHASd"
      },
      "outputs": [],
      "source": [
        "root = Path('data/train')\n",
        "# Ecrivez votre code pour le téléchargement des données dans\n",
        "# le dossier 'data/train'\n",
        "# Liste des chemins de dossier de chaque catégorie\n",
        "paths =[root/'laughs', root/'crying',root/'afraid',root/'angry']\n",
        "# Liste des urls collectées de chaque catégorie\n",
        "class_urls = [urls_person_laughs, urls_person_crying,urls_person_afraid,urls_person_angry]\n",
        "\n",
        "for path, urls in zip(paths, class_urls):\n",
        "    path.mkdir(exist_ok=True, parents=True)\n",
        "    download_images(path, urls=urls)\n",
        "    print(f\"Nombre d'images dans le dossier {path}: {len(path.ls())}\")"
      ]
    },
    {
      "cell_type": "code",
      "source": [
        "# Ecrivez votre code pour la suppression d'images corrompues\n",
        "images_corrompues = verify_images(get_image_files(root))\n",
        "# Suppression des images corrompues\n",
        "images_corrompues.map(Path.unlink)\n",
        "f\"Nombre d'images corrompus: {len(images_corrompues)}\""
      ],
      "metadata": {
        "id": "9zHpDZRAnH1L"
      },
      "execution_count": null,
      "outputs": []
    },
    {
      "cell_type": "code",
      "source": [
        "# Ecrivez votre code pour la création de dataloader et \n",
        "# visualisation d'un lot de données\n",
        "fnames = get_image_files(root)\n",
        "def label_function(x): return x.parent.name\n",
        "data = ImageDataLoaders.from_path_func(root, fnames, label_function,valid_pct=0.2, seed=121, bs=32,item_tfms=Resize(224))\n",
        "# Affichage des données\n",
        "data.show_batch()"
      ],
      "metadata": {
        "id": "f6Ut7xJ7nSPp"
      },
      "execution_count": null,
      "outputs": []
    },
    {
      "cell_type": "markdown",
      "metadata": {
        "id": "6Hp3cc0mHASg"
      },
      "source": [
        "## **II. Développement de modèles en réponse au problème**\n",
        "\n",
        "1. Entraîner 4 variantes de la famille du modèle `resnet` (`resnet18, resnet34, resnet50, resnet101`) pendant 5 époques en utilisant la technique de l'apprentissage par transfert vu en cours"
      ]
    },
    {
      "cell_type": "code",
      "source": [
        "# Ecrivez votre code pour entraîner le resnet18\n",
        "# utilisez le nom `learn_r18`\n",
        "learn_r18 =  vision_learner(data, resnet18, metrics=error_rate)\n",
        "learn_r18.fine_tune(5)"
      ],
      "metadata": {
        "id": "61RReJtFTSQS"
      },
      "execution_count": null,
      "outputs": []
    },
    {
      "cell_type": "code",
      "source": [
        "# Ecrivez votre code pour entraîner le resnet34\n",
        "# utilisez le nom `learn_r34`\n",
        "learn_r34 = vision_learner(data, resnet34, metrics=error_rate)\n",
        "learn_r34.fine_tune(5)"
      ],
      "metadata": {
        "id": "mbxlSHK8sxMF"
      },
      "execution_count": null,
      "outputs": []
    },
    {
      "cell_type": "code",
      "source": [
        "# Ecrivez votre code pour entraîner le resnet50\n",
        "# utilisez le nom `learn_r50`\n",
        "learn_r50 = vision_learner(data, resnet50, metrics=error_rate)\n",
        "learn_r50.fine_tune(5)"
      ],
      "metadata": {
        "id": "BeCiYtj6sxtb"
      },
      "execution_count": null,
      "outputs": []
    },
    {
      "cell_type": "code",
      "source": [
        "# Ecrivez votre code pour entraîner le resnet101\n",
        "# utilisez le nom `learn_r101`\n",
        "learn_r101 = vision_learner(data, resnet101, metrics=error_rate)\n",
        "learn_r101.fine_tune(5)"
      ],
      "metadata": {
        "id": "6WG-gO85s7bP"
      },
      "execution_count": null,
      "outputs": []
    },
    {
      "cell_type": "markdown",
      "source": [
        "## **II.1 Analyse des modèles développés**\n",
        "\n",
        "1. Créez une variable `training_time` de type `dictionnaire` ayant pour clés les chaînes caractères (string) des noms des 4 modèles </br> et pour valeurs le temps total mis pour l'entraînement.\n",
        "2. Faites de même pour les performances (`error_rate`) avec une variable `training_perf`."
      ],
      "metadata": {
        "id": "k2B7jKars954"
      }
    },
    {
      "cell_type": "code",
      "execution_count": null,
      "metadata": {
        "id": "_LJyQGd3HASh"
      },
      "outputs": [],
      "source": [
        "training_time = {}\n",
        "training_perf = {}\n",
        "# Code pour remplir chaque dictionnaire comme indiqué\n",
        "resnet18, resnet34, resnet50, resnet101\n",
        "training_time['resnet18'] = 222  # Secondes\n",
        "training_perf['resnet18'] = 2.300677\n",
        "\n",
        "training_time['resnet34'] = 230 # secondes\n",
        "training_perf['resnet34'] = 2.168919\n",
        "\n",
        "training_time['resnet50'] = 238 # secondes\n",
        "training_perf['resnet50'] = 2.175676\n",
        "\n",
        "training_time['resnet101'] = 256 # secondes\n",
        "training_perf['resnet101'] = 2.020271\n",
        "\n",
        "print(f\"training time: {training_time}\")\n",
        "print(f\"training perf: {training_perf}\")"
      ]
    },
    {
      "cell_type": "markdown",
      "metadata": {
        "id": "nxGOOzzjHASi"
      },
      "source": [
        "Bonus:\n",
        "\n",
        "- Faites un diagramme à bandes avec la librairie `matplotlib`\n",
        "avec en abscisse les noms des modèles et en ordonnée le temps\n",
        "d'apprentissage ou entraînement\n",
        "\n",
        "- Faites-en de même pour la performance des modèles\n"
      ]
    },
    {
      "cell_type": "code",
      "execution_count": null,
      "metadata": {
        "id": "r3yz9JOOHASi"
      },
      "outputs": [],
      "source": [
        "# Code pour les graphes\n",
        "# En tant que data scientist, il est indispensable\n",
        "# de présenter les résultats sous forme de graphes\n",
        "!pip install -Uqq matplotlib\n",
        "import matplotlib.pyplot as plt\n",
        "\n",
        "# Diagramme training_time\n",
        "plt.bar(*zip(*training_time.items()))\n",
        "plt.xlabel(\"Model\")\n",
        "plt.ylabel(\"Time (seconds)\")\n",
        "plt.title = \"Training Time\"\n",
        "plt.show()\n",
        "\n",
        "# Diagramme training_perf\n",
        "plt.bar(*zip(*training_perf.items()), color=['red', 'yellow', 'blue', 'green'])\n",
        "plt.xlabel(\"Model\")\n",
        "plt.ylabel(\"training perf\")\n",
        "plt.title = \"Training Time\"\n",
        "plt.show()"
      ]
    },
    {
      "cell_type": "markdown",
      "metadata": {
        "id": "fDZTyvAKHASj"
      },
      "source": [
        "3. Quel est le modèle le plus rapide pour l'entraînement ?</br>\n",
        "\n",
        "`Le modele le plus rapide à l'entrainement est le model resnet18`\n",
        "</br>\n",
        "\n",
        "4. Quel est le modèle le plus performant ?</br>\n",
        "\n",
        "`Le modele le plus performant est le model resnet101`\n",
        "</br>\n",
        "\n",
        "5. Basé sur ces résultats, quel est l'impact du nombre de couches en profondeur </br>sur le temps d'apprentissage ? A partir de votre compréhension du cours,</br> qu'est ce qui selon vous justifie cela ?</br>\n",
        "\n",
        "`Le nombre de couche agit directement sur le temps d'apprentissage car plus il y'a de couche plus le temps apprendissage est élevé , cela est justifé par le faite que `\n",
        "</br>\n",
        "\n",
        "6. Même questions pour la performance.</br>\n",
        "\n",
        "`Le nombre de couche agit directement sur la performance car plus il y'a de couche moins le taux d'erreur est élévé  , cela est justifé par le faite que `\n",
        "</br>\n",
        "\n"
      ]
    },
    {
      "cell_type": "markdown",
      "source": [
        "## **II.2 Amélioration du modèle le plus performant**\n",
        "\n",
        "Vous allez entraîner davantage le modèle le plus performant jusqu' à la\n",
        "dégradation de la performance."
      ],
      "metadata": {
        "id": "qF6mp2HB66H3"
      }
    },
    {
      "cell_type": "code",
      "source": [
        "# Créez un objet callback comme indiqué. Nommez-le `cb` \n",
        "cb = "
      ],
      "metadata": {
        "id": "WkqYeoy48bFY"
      },
      "execution_count": null,
      "outputs": []
    },
    {
      "cell_type": "code",
      "source": [
        "# Adaptez le code ci-dessous \n",
        "n_epochs = 10\n",
        "learn_r101.fine_tune(n_epochs, cbs=cb)"
      ],
      "metadata": {
        "id": "xvqAU6ozJYGg"
      },
      "execution_count": null,
      "outputs": []
    },
    {
      "cell_type": "code",
      "source": [
        "# répéter la dernière ligne de code de la cellule précédente en augmentant\n",
        "# de 5 le nombre d'époques dans différente\n",
        "# cellule tant que la performance s'améliore, ex: 10, 15, 20, etc..."
      ],
      "metadata": {
        "id": "HjJcQkSh9HrC"
      },
      "execution_count": null,
      "outputs": []
    },
    {
      "cell_type": "markdown",
      "source": [
        "Notez le numéro de l'époque avant laquelle la\n",
        "performance a une tendance globale à se dégrader.</br>\n",
        "Mettre sa valeur dans la variable ci-dessous\n",
        "\n"
      ],
      "metadata": {
        "id": "lrc_bXVushk-"
      }
    },
    {
      "cell_type": "code",
      "source": [
        "n_epoch_best_perf = ..."
      ],
      "metadata": {
        "id": "zBG-8T7N0e3N"
      },
      "execution_count": null,
      "outputs": []
    },
    {
      "cell_type": "markdown",
      "source": [
        "## **III. Evaluation finale**\n",
        "\n",
        "La meilleure version de votre modèle est maintenant prête à l'emploi dans la vie courante pour résoudre le\n",
        "problème pour lequel il a été développé, on parle de déploiement.\n",
        "\n",
        "Nous simulerons ce déploiement en usage réel en\n",
        "le testant sur les données `extra` qui n'ont eu aucun lien avec tout le processus d'apprentissage.\n"
      ],
      "metadata": {
        "id": "B5TpUg5ZKYOJ"
      }
    },
    {
      "cell_type": "code",
      "source": [
        "root_extra = Path('data/extra')\n",
        "# Ecrire la suite de code pour télécharger\n",
        "# les images référencées par les listes `extra_urls_...` \n",
        "# dans les sous-dossiers dédiés à chaque catégorie\n",
        "\n",
        "paths =[root/'extra_laughs', root/'extra_crying',root/'extra_afraid',root/'extra_angry']\n",
        "# Liste des urls collectées de chaque catégorie\n",
        "class_urls = [extra_urls_person_laughs, extra_urls_person_crying, extra_urls_person_afraid, extra_urls_person_angry]\n",
        "\n",
        "for path, urls in zip(paths, class_urls):\n",
        "    path.mkdir(exist_ok=True, parents=True)\n",
        "    download_images(path, urls=urls)\n",
        "    print(f\"Nombre d'images dans le dossier {path}: {len(path.ls())}\")"
      ],
      "metadata": {
        "id": "OWVYrXOBKXJd"
      },
      "execution_count": null,
      "outputs": []
    },
    {
      "cell_type": "code",
      "source": [
        "# Collection des fichiers images\n",
        "fnames_extra =  get_image_files(root_extra)\n",
        "# Détermination de leur label\n",
        "labels = [label_function(x) for x in fnames_extra]"
      ],
      "metadata": {
        "id": "gK_tHSkjAwg1"
      },
      "execution_count": null,
      "outputs": []
    },
    {
      "cell_type": "code",
      "source": [
        "# Ecrire le code pour calculer les prédictions de toutes \n",
        "# les images du dossier `extra` en vous basant sur le notebook\n",
        "# du cours\n",
        "\n",
        "#predictions = [...]\n",
        "\n",
        "dl = data[0].new(shuffle=True)\n",
        "b = dl.one_batch()\n",
        "_,_,preds = learn_r101.get_preds(dl=[b], with_decoded=True)\n",
        "learn_r101.show_results()"
      ],
      "metadata": {
        "id": "KPcV_5z4BGnA"
      },
      "execution_count": null,
      "outputs": []
    },
    {
      "cell_type": "code",
      "source": [
        "# Calculer le nombre d'images dont les labels sont égaux\n",
        "# à leurs prédictions puis déduire la pourcentage de prédictions correctes\n",
        "# `accuracy` et le taux d'erreur `error_rate`\n",
        "#....\n",
        "# print(f\"Pourcentage prédictions correctes: {accuracy}\")\n",
        "# print(f\"Taux d'erreurs : {error_rate}\")"
      ],
      "metadata": {
        "id": "Ll5-2V5aBTSH"
      },
      "execution_count": null,
      "outputs": []
    },
    {
      "cell_type": "markdown",
      "source": [
        "Finalement, vous allez entrainer votre modèle sur l'ensemble des données du dossier `'data/train'` sans en mettre de côté pour la validation.\n",
        "Pour cela, vous allez redéfinir le dataloader dls avec le paramètre `valid_pct=1/n` (n est le nombre total d'images téléchargées) ce qui\n",
        "correspond à mettre une seule image dans l'ensemble de validation car fastai nous oblige à en avoir un. "
      ],
      "metadata": {
        "id": "Zdc1X2Gje8rA"
      }
    },
    {
      "cell_type": "code",
      "source": [
        "vpct = 1/len(fnames)\n",
        "dls = ImageDataLoaders.from_path_func(root, fnames, label_function,\n",
        "                                     valid_pct=vpct, seed=121, bs=64,\n",
        "                                     item_tfms=Resize(224))"
      ],
      "metadata": {
        "id": "fQbLF17l5E2A"
      },
      "execution_count": null,
      "outputs": []
    },
    {
      "cell_type": "code",
      "source": [
        "# Ecrire le code pour re-entraîner le modèle\n",
        "# avec le nombre d'époques notée précédemment\n",
        "# Adaptez/Modifiez le code ci-dessous\n",
        "\n",
        "# ....\n",
        "# model.fine_tune(n_epoch_best_perf)"
      ],
      "metadata": {
        "id": "_sNAF2rj7iOE"
      },
      "execution_count": null,
      "outputs": []
    },
    {
      "cell_type": "code",
      "source": [
        "# Ecrire le code pour calculer les prédictions\n",
        "# predictions_finales = [....]"
      ],
      "metadata": {
        "id": "Z03cahRH93B_"
      },
      "execution_count": null,
      "outputs": []
    },
    {
      "cell_type": "code",
      "source": [
        "# Calculer le nombre d'images dont les labels sont égaux\n",
        "# à leurs prédictions puis déduire la pourcentage de prédictions correctes\n",
        "# `accuracy_final` et le taux d'erreur `error_rate_final`\n",
        "#....\n",
        "# print(f\"Pourcentage prédictions correctes: {accuracy_final}\")\n",
        "# print(f\"Taux d'erreurs : {error_rate_final}\")"
      ],
      "metadata": {
        "id": "gZAHoGoPfXxR"
      },
      "execution_count": null,
      "outputs": []
    },
    {
      "cell_type": "markdown",
      "source": [
        "Comparez les performances entre ce modèle et le précédent.\n",
        "Quel est le plus performant ?\n",
        "\n",
        "`<Remplacez-moi par votre réponse>`\n",
        "\n",
        "Comparez la performance de ce modèle à la meilleure performance sur\n",
        "l'ensemble de validation de la section II.2. Quel est le plus performant ?\n",
        "\n",
        "`<Remplacez-moi par votre réponse>`\n",
        "\n",
        "\n",
        "**Félicitations ! Vous venez de parcourir le cycle `basique` de développement d'un modèle prêt à l'emploi ! Il y a encore beaucoup d'autres ingrédients manquants mais le schéma global y est**\n",
        "\n",
        "\n"
      ],
      "metadata": {
        "id": "oJz5j3G4-aw_"
      }
    }
  ],
  "metadata": {
    "colab": {
      "provenance": [],
      "toc_visible": true,
      "private_outputs": true,
      "include_colab_link": true
    },
    "kernelspec": {
      "display_name": "Python 3",
      "language": "python",
      "name": "python3"
    },
    "language_info": {
      "codemirror_mode": {
        "name": "ipython",
        "version": 3
      },
      "file_extension": ".py",
      "mimetype": "text/x-python",
      "name": "python",
      "nbconvert_exporter": "python",
      "pygments_lexer": "ipython3",
      "version": "3.7.12"
    },
    "gpuClass": "standard",
    "accelerator": "GPU"
  },
  "nbformat": 4,
  "nbformat_minor": 0
}